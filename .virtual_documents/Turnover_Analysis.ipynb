





import sys
import pandas as pd
import plotly
import plotly.express as px
import plotly.io as pio
import scipy
from scipy.stats import ttest_ind, levene

# Versões das Bibliotecas
print('Versões das Bibliotecas')
print(f'Python: {sys.version}')
print(f'pandas: {pd.__version__}')
print(f'plotly: {plotly.__version__}')
print(f'scipy: {scipy.__version__}')





# Diretório para salvar as imagens
path = "E:\git\Turnover_Analysis"


# identificando as planilhas do arquivo xlsx
xls = pd.ExcelFile("Base_dados_-_Rotatividade_RH.xlsx")
xls.sheet_names


# dataframe
rh = pd.read_excel(xls, 'tab-rh')
rh.head()





# tipo de dados e valores nulos
rh.info()





# Resumo estatístico
rh.describe()


# Correlação desligamento
rh.loc[:,rh.dtypes!=object].corr()['Desligamento'].sort_values(ascending=False)





# Relação Idade e Salário por Nível de Cargo
fig = px.scatter(rh, x="Idade", y="Salario", color="Nivel_Cargo",
                 color_continuous_scale='Picnic',
                 title="Idade e Salário por Nível de Cargo")
fig.show()


# Relação Idade e Salário por Desligamento
fig = px.scatter(rh, x="Idade", y="Salario", color=rh['Desligamento'].map({0: 'Ativo', 1: 'Desligado'}),
                 title="Idade e Salário por Desligamento")
fig.show()








# Resumo dos funcionários por nivel de cargo: Desligados, ativos, total, turnover.

resume = pd.crosstab(rh['Nivel_Cargo'], rh['Desligamento'].map({0: 'Ativo', 1: 'Desligado'}), margins=True)
resume['Turnover'] = round(resume['Desligado'] / resume['All'],3)

print('Resumo: Desligados, ativos, total, turnover por nível de cargo.')
resume





# Meses de serviço funcionários ativos (Média)
rh.loc[rh.Desligamento==0].groupby('Nivel_Cargo').Meses_de_Servico.mean()


# Meses de serviço funcionários desligados (Média)
rh.loc[rh.Desligamento==1].groupby('Nivel_Cargo').Meses_de_Servico.mean()








# visualizando ativos e desligados por nivel de cargo
fig = px.histogram(rh, x="Nivel_Cargo", color=rh['Desligamento'].map({0: 'Ativo', 1: 'Desligado'}), title="Ativos e desligados por Nível de Cargo")
fig.show()








# Contagem de desligamentos por data
rh.Data_Desligamento.value_counts()


# visualizando os desligamentos por data
fig = px.bar(rh, x='Data_Desligamento', color='Nivel_Cargo', barmode='group',
                   title='Desligamento por data e Nível de Cargo')
fig.show()








fig = px.histogram(rh, x= 'Data_Contratacao', color='Nivel_Cargo', nbins=rh.Data_Contratacao.nunique(), text_auto=True,
                   title='Contratação por Data e Nível de Cargo')
fig.add_hline(rh.Data_Contratacao.value_counts().mean(), line_dash="dash", line_color="gray", annotation=dict(text="Média"))
fig.show()





# Construindo um data frame completo com as informações de contratação e demissão ao longo do tempo

# Contabilizando contratações e demissões
admissions = rh['Data_Contratacao'].value_counts().sort_index()
layoffs = rh['Data_Desligamento'].value_counts().sort_index()

# Combinando admissões e demissões em um único DataFrame
events = pd.concat([admissions, -layoffs], axis=1).fillna(0)
events.columns = ['admissions', 'layoffs']

# Adicionando as datas específicas manualmente
specific_dates = pd.to_datetime(['2024-03-14', '2024-04-14'])
for date in specific_dates:
    if date not in events.index:
        events.loc[date] = [0, 0]

# Reordenando o DataFrame após a inclusão das novas datas
events = events.sort_index()

# Calculando o total acumulado de funcionários
events['net_change'] = events['admissions'] + events['layoffs']
events['total_employees'] = events['net_change'].cumsum()

# Resetando o índice e renomeando a coluna com os dados temporais
events = events.reset_index().rename(columns={'index': 'data'})

# Visualizando os resultados
print(events)


# Número total de funcionários por data
fig = px.bar(events, x='data', y='total_employees', text='total_employees',
             labels={'data':'Data', 'total_employees':'Total'},
             title='Total acumulado de funcionários'
             )
fig.show()





initial_date = rh.Data_Contratacao.min()
final_date = rh.Data_Contratacao.max()
period = final_date - initial_date
period = round(int(period.days) / 365,1)

hiring_cicle = rh.Data_Contratacao.nunique()
mean_hiring_cicle = round(rh.Data_Contratacao.value_counts().mean(),2)

initial_employees = rh.Data_Contratacao.value_counts().sort_index().cumsum().min()
final_employees = rh.Data_Contratacao.value_counts().sort_index().cumsum().max()
growth_percent = round(((final_employees - initial_employees) / initial_employees) * 100,2)

info = {
    'Descrição': [
        'Data inicial de contratação',
        'Data final de contratação',
        'Período total (anos)',
        'Ciclos de contratação',
        'Média de contratações por ciclo',
        'Número inicial de contratados',
        'Acumulado',
        'Crescimento percentual'
    ],
    'Valor': [
        initial_date,
        final_date,
        period,
        hiring_cicle,
        mean_hiring_cicle,
        initial_employees,
        final_employees,
        f"{growth_percent}%"
    ]
}

rh_info = pd.DataFrame(info)
rh_info











# boxplot Horas extras desligados x ativos

fig = px.box(rh, y='Horas_Extras',color=rh['Desligamento'].map({0: 'Ativo', 1: 'Desligado'}), points="all",
             title='Horas extras desligados x ativos')
fig.show()





# boxplot Horas extras desligados x ativos por nível de cargo

fig = px.box(rh, y='Horas_Extras', color=rh['Desligamento'].map({0: 'Ativo', 1: 'Desligado'}),points="all", facet_col='Nivel_Cargo',
             title='Horas extras desligados x ativos por nível de cargo')
fig.show()








# Função teste t para significância estatística

def Ttest(x0, x1):
    '''
    É importante garantir que as suposições do teste t sejam atendidas:
    1) As amostras devem ser independentes.
    2) As amostras devem ser aproximadamente normalmente distribuídas (especialmente importante para amostras pequenas).
    3) As variâncias das duas populações devem ser iguais (ou aproximadamente iguais). Se as variâncias forem diferentes, você pode usar o parâmetro equal_var=False no ttest_ind.
    '''
    # Teste de igualdade de variâncias
    stat, p_levene = levene(x0, x1)

    if p_levene > 0.05:
        # Variâncias iguais
        t_stat, p_value = ttest_ind(x0, x1, equal_var=True)
        var_type = "iguais"
    else:
        # Variâncias desiguais
        t_stat, p_value = ttest_ind(x0, x1, equal_var=False)
        var_type = "desiguais"

    if p_value < 0.05:
        conclusion = "Rejeitamos a hipótese nula. \nHá uma diferença estatisticamente significativa entre as médias dos dois grupos."
    else:
        conclusion = "Aceitamos a hipótese nula. \nNão há diferença estatisticamente significativa entre as médias dos dois grupos."

    print(f'Resultado do teste t para {x0.name}:\n')
    print(f'{conclusion}\n')
    print(f'Teste t com variâncias {var_type}:')
    print(f't-stat = {t_stat}')
    print(f'p-value = {p_value}')





# filtrando Horas Extras de Seniors Desligados e ativos
senior_0_horas_extras = rh.loc[(rh.Desligamento==0) & (rh.Nivel_Cargo=='Sênior'), 'Horas_Extras']
senior_1_horas_extras = rh.loc[(rh.Desligamento==1) & (rh.Nivel_Cargo=='Sênior'), 'Horas_Extras']


# Teste t Horas Extras funcionários Seniors grupo Desligado e Ativo
Ttest(senior_0_horas_extras, senior_1_horas_extras)


# Diferença percentual entre os grupos
senior_1_horas_extras.mean() /  senior_0_horas_extras.mean() -1





# filtrando Horas Extras de pleno_1_horas_extras Desligados e ativos
pleno_0_horas_extras = rh.loc[(rh.Desligamento==0) & (rh.Nivel_Cargo=='Pleno'), 'Horas_Extras']
pleno_1_horas_extras = rh.loc[(rh.Desligamento==1) & (rh.Nivel_Cargo=='Pleno'), 'Horas_Extras']


# Executando teste e resultado
Ttest(pleno_0_horas_extras, pleno_1_horas_extras)








# boxplot Pontuação desempenho desligados x ativos
fig = px.box(rh, y='Pontuacao_Desempenho',color=rh['Desligamento'].map({0: 'Ativo', 1: 'Desligado'}), points="all", title='Pontuação desempenho desligados x ativos')
fig.show()





# boxplot Pontuação desempenho desligados x ativos por nível de cargo
fig = px.box(rh, facet_col='Nivel_Cargo', y='Pontuacao_Desempenho',color=rh['Desligamento'].map({0: 'Ativo', 1: 'Desligado'}), points="all",
             title='Pontuação desempenho desligados x ativos por nível de cargo')
fig.show()











# filtrando
pleno_0_Pontuacao_Desempenho = rh.loc[(rh.Desligamento==0) & (rh.Nivel_Cargo=='Pleno'), 'Pontuacao_Desempenho']
pleno_1_Pontuacao_Desempenho = rh.loc[(rh.Desligamento==1) & (rh.Nivel_Cargo=='Pleno'), 'Pontuacao_Desempenho']


# Executando teste e resultado
Ttest(pleno_0_Pontuacao_Desempenho, pleno_1_Pontuacao_Desempenho)


# Diferença percentual entre os grupos
pleno_1_Pontuacao_Desempenho.mean() / pleno_0_Pontuacao_Desempenho.mean() - 1





# filtrando
senior_0_Pontuacao_Desempenho = rh.loc[(rh.Desligamento==0) & (rh.Nivel_Cargo=='Sênior'), 'Pontuacao_Desempenho']
senior_1_Pontuacao_Desempenho = rh.loc[(rh.Desligamento==1) & (rh.Nivel_Cargo=='Sênior'), 'Pontuacao_Desempenho']


# Executando teste e resultado
Ttest(senior_0_Pontuacao_Desempenho, senior_1_Pontuacao_Desempenho)


# Diferença percentual entre os grupos
senior_1_Pontuacao_Desempenho.mean() / senior_0_Pontuacao_Desempenho.mean() - 1





# filtrando
junior_0_Pontuacao_Desempenho = rh.loc[(rh.Desligamento==0) & (rh.Nivel_Cargo=='Junior'), 'Pontuacao_Desempenho']
junior_1_Pontuacao_Desempenho = rh.loc[(rh.Desligamento==1) & (rh.Nivel_Cargo=='Junior'), 'Pontuacao_Desempenho']


# Executando teste e resultado
Ttest(junior_0_Pontuacao_Desempenho, junior_1_Pontuacao_Desempenho)








# boxplot Pontuação desempenho desligados x ativos por nível de cargo
fig = px.box(rh, y='Satisfacao_Trabalho', color=rh['Desligamento'].map({0: 'Ativo', 1: 'Desligado'}), points="all", title='Satisfacao_Trabalho desligados x ativos')
fig.show()





# boxplot Pontuação desempenho desligados x ativos por nível de cargo
fig = px.box(rh, facet_col='Nivel_Cargo', y='Satisfacao_Trabalho', color=rh['Desligamento'].map({0: 'Ativo', 1: 'Desligado'}), points="all",
             title='Satisfacao_Trabalho desligados x ativos por nível de cargo')
fig.show()











# filtrando
senior_0_Satisfacao_Trabalho = rh.loc[(rh.Desligamento==0) & (rh.Nivel_Cargo=='Sênior'), 'Satisfacao_Trabalho']
senior_1_Satisfacao_Trabalho = rh.loc[(rh.Desligamento==1) & (rh.Nivel_Cargo=='Sênior'), 'Satisfacao_Trabalho']


# Executando teste e resultado
Ttest(senior_0_Satisfacao_Trabalho, senior_1_Satisfacao_Trabalho)


# Diferença percentual entre os grupos
senior_1_Satisfacao_Trabalho.mean() / senior_0_Satisfacao_Trabalho.mean() - 1





# filtrando
pleno_0_Satisfacao_Trabalho = rh.loc[(rh.Desligamento==0) & (rh.Nivel_Cargo=='Pleno'), 'Satisfacao_Trabalho']
pleno_1_Satisfacao_Trabalho = rh.loc[(rh.Desligamento==1) & (rh.Nivel_Cargo=='Pleno'), 'Satisfacao_Trabalho']


# Executando teste e resultado
Ttest(pleno_0_Satisfacao_Trabalho, pleno_1_Satisfacao_Trabalho)








# Média meses de serviço funcionários desligados por nível de cargo
pd.DataFrame(round(rh.loc[rh.Desligamento==1, 'Meses_de_Servico'].groupby(rh.Nivel_Cargo).mean(),2))


# Média meses de serviço funcionários desligados por idade e nível de cargo
rh.loc[rh.Desligamento==1, 'Meses_de_Servico'].groupby([rh.Nivel_Cargo, rh.Idade]).mean().unstack(level=0).fillna("")


# Média meses de serviço funcionários desligados por idade e nível de cargo (plot)
fig = px.line(rh.loc[rh.Desligamento==1, 'Meses_de_Servico'].groupby([rh.Nivel_Cargo, rh.Idade]).mean().unstack(level=0).fillna(""),
             title=' Média de meses de serviço por nível de cargo e idade')
fig.show()


# boxplot Meses de serviço desligados x ativos
fig = px.box(rh, y='Meses_de_Servico', color=rh['Desligamento'].map({0: 'Ativo', 1: 'Desligado'}), points="all",
             title='Meses de serviço desligados x ativos')
fig.show()





# boxplot Meses de serviço desligados x ativos por nível de cargo
fig = px.box(rh, facet_col='Nivel_Cargo', y='Meses_de_Servico', color=rh['Desligamento'].map({0: 'Ativo', 1: 'Desligado'}), points="all",
             title='Meses de serviço desligados x ativos por nível de cargo')
fig.show()











# filtrando
junior_0_Meses_de_Servico = rh.loc[(rh.Desligamento==0) & (rh.Nivel_Cargo=='Junior'), 'Meses_de_Servico']
junior_1_Meses_de_Servico = rh.loc[(rh.Desligamento==1) & (rh.Nivel_Cargo=='Junior'), 'Meses_de_Servico']


# Executando teste e resultado
Ttest(junior_0_Meses_de_Servico, junior_1_Meses_de_Servico)


# Diferença percentual entre os grupos
junior_1_Meses_de_Servico.mean() / junior_0_Meses_de_Servico.mean() - 1





# filtrando
pleno_0_Meses_de_Servico = rh.loc[(rh.Desligamento==0) & (rh.Nivel_Cargo=='Pleno'), 'Meses_de_Servico']
pleno_1_Meses_de_Servico = rh.loc[(rh.Desligamento==1) & (rh.Nivel_Cargo=='Pleno'), 'Meses_de_Servico']


# Executando teste e resultado
Ttest(pleno_0_Meses_de_Servico, pleno_1_Meses_de_Servico)








# boxplot Idade desligados x ativos por nível de cargo
fig = px.box(rh, facet_col='Nivel_Cargo', y='Idade', color=rh['Desligamento'].map({0: 'Ativo', 1: 'Desligado'}), points="all",
             title='Idade desligados x ativos por nível de cargo')
fig.show()








# filtrando
senior_0_Idade = rh.loc[(rh.Desligamento==0) & (rh.Nivel_Cargo=='Sênior'), 'Idade']
senior_1_Idade = rh.loc[(rh.Desligamento==1) & (rh.Nivel_Cargo=='Sênior'), 'Idade']


# Executando teste e resultado
Ttest(senior_0_Idade, senior_1_Idade)





# filtrando
pleno_0_Idade = rh.loc[(rh.Desligamento==0) & (rh.Nivel_Cargo=='Pleno'), 'Idade']
pleno_1_Idade = rh.loc[(rh.Desligamento==1) & (rh.Nivel_Cargo=='Pleno'), 'Idade']


# Executando teste e resultado
Ttest(pleno_0_Idade, pleno_1_Idade)





# filtrando
junior_0_Idade = rh.loc[(rh.Desligamento==0) & (rh.Nivel_Cargo=='Junior'), 'Idade']
junior_1_Idade = rh.loc[(rh.Desligamento==1) & (rh.Nivel_Cargo=='Junior'), 'Idade']


# Executando teste e resultado
Ttest(junior_0_Idade, junior_1_Idade)








# boxplot Salário desligados x ativos por nível de cargo
fig = px.box(rh, facet_col='Nivel_Cargo', y='Salario', color=rh['Desligamento'].map({0: 'Ativo', 1: 'Desligado'}), points="all",
             title='Salário desligados x ativos por nível de cargo')
fig.show()












